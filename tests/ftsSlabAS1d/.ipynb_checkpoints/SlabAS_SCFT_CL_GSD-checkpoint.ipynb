{
 "metadata": {
  "name": "",
  "signature": "sha256:62110aabfd3f087d2346119c2a317b62ae62f40f869c53098b747ec43f0449a1"
 },
 "nbformat": 3,
 "nbformat_minor": 0,
 "worksheets": [
  {
   "cells": [
    {
     "cell_type": "code",
     "collapsed": false,
     "input": [
      "import numpy as np\n",
      "B = 25\n",
      "C = 0.5\n",
      "sigma_b = 1.0 / np.sqrt(2*B*C)"
     ],
     "language": "python",
     "metadata": {},
     "outputs": [],
     "prompt_number": 3
    },
    {
     "cell_type": "code",
     "collapsed": false,
     "input": [
      "from scipy.io import loadmat\n",
      "mat_scft = loadmat('B25_C0.5_scft_Lx65/scft_out_3979.mat')\n",
      "phi_scft = mat_scft['phi'][0,:]\n",
      "x = mat_scft['x'][0,:]\n",
      "L = np.max(x)"
     ],
     "language": "python",
     "metadata": {},
     "outputs": [],
     "prompt_number": 4
    },
    {
     "cell_type": "code",
     "collapsed": false,
     "input": [
      "import matplotlib as mpl\n",
      "mpl.use('Agg')  # To avoid launching interactive plot, such as wxAgg.\n",
      "import matplotlib.pyplot as plt\n",
      "import mpltex\n",
      "\n",
      "@mpltex.presentation_decorator\n",
      "def plot_density(x, phis, labels, figname):\n",
      "    fig, ax = plt.subplots(1)\n",
      "    linestyle = mpltex.linestyle_generator(lines=['-'], markers=[], #['o'],\n",
      "                                           hollow_styles=[])\n",
      "    i = 0\n",
      "    for phi in phis:\n",
      "        ax.plot(x, phi, label=labels[i], **linestyle.next())\n",
      "        i += 1\n",
      "    \n",
      "    ax.locator_params(nbins=5)\n",
      "    ax.set_xlabel('$z$')\n",
      "    ax.set_ylabel('$\\phi(z)$')\n",
      "    ax.legend(loc='best')\n",
      "              \n",
      "    fig.tight_layout(pad=0.1)\n",
      "    fig.savefig(figname)\n",
      "    \n",
      "    #plt.show()\n",
      "    #plt.close('all')\n",
      "    \n",
      "    \n",
      "@mpltex.acs_decorator\n",
      "def plot_timeseries(t, data, labels, figname):\n",
      "    fig, ax = plt.subplots(1)\n",
      "    linestyle = mpltex.linestyle_generator(lines=['-'], markers=[],\n",
      "                                           hollow_styles=[])\n",
      "    i = 0\n",
      "    for d in data:\n",
      "        if t:\n",
      "            ax.plot(t, d, label=labels[i], **linestyle.next())\n",
      "        else:\n",
      "            ax.plot(d, label=labels[i], **linestyle.next())\n",
      "        i += 1\n",
      "    \n",
      "    ax.locator_params(nbins=5)\n",
      "    ax.set_xlabel('$t$')\n",
      "    #ax.set_ylabel('$\\phi$')\n",
      "    ax.legend(loc='best')\n",
      "              \n",
      "    fig.tight_layout(pad=0.1)\n",
      "    fig.savefig(figname)\n",
      "    \n",
      "    #plt.show()\n",
      "    #plt.close('all')"
     ],
     "language": "python",
     "metadata": {},
     "outputs": [],
     "prompt_number": 5
    },
    {
     "cell_type": "code",
     "collapsed": false,
     "input": [
      "plot_density(x, phi_scft, 'SCFT', 'density_scft')"
     ],
     "language": "python",
     "metadata": {},
     "outputs": [],
     "prompt_number": 76
    },
    {
     "cell_type": "code",
     "collapsed": false,
     "input": [
      "psim = 1.47\n",
      "b = psim/(2*sigma_b)\n",
      "phi_gsd = psim**2 * (np.tanh(b*x) + np.tanh(b*(L-x)) - np.tanh(b*L))**2\n",
      "print np.max(np.abs(phi_gsd-phi_scft))\n",
      "print np.max(phi_scft)\n",
      "print np.max(phi_gsd)\n",
      "print psim**2\n",
      "#phi_gsd = np.tanh(b*x) + np.tanh(b*(L-x)) - np.tanh(b*L)"
     ],
     "language": "python",
     "metadata": {},
     "outputs": [
      {
       "output_type": "stream",
       "stream": "stdout",
       "text": [
        "0.00698701798666\n",
        "1.75277686446\n",
        "1.75965142001\n",
        "2.1609\n"
       ]
      }
     ],
     "prompt_number": 20
    },
    {
     "cell_type": "code",
     "collapsed": false,
     "input": [
      "plot_density(x, phi_gsd, 'GSD', 'density_gsd')"
     ],
     "language": "python",
     "metadata": {},
     "outputs": [],
     "prompt_number": 75
    },
    {
     "cell_type": "code",
     "collapsed": false,
     "input": [
      "1.5/0.4"
     ],
     "language": "python",
     "metadata": {},
     "outputs": [
      {
       "metadata": {},
       "output_type": "pyout",
       "prompt_number": 56,
       "text": [
        "3.75"
       ]
      }
     ],
     "prompt_number": 56
    },
    {
     "cell_type": "code",
     "collapsed": false,
     "input": [
      "from chebpy import cheb_D1_fchebt\n",
      "\n",
      "dphi_gsd = cheb_D1_fchebt(phi_gsd) * 2.0 / L\n",
      "d2phi_gsd = cheb_D1_fchebt(dphi_gsd) * 2.0 / L\n",
      "dphi_scft = cheb_D1_fchebt(phi_scft) * 2.0 / L\n",
      "d2phi_scft = cheb_D1_fchebt(dphi_scft) * 2.0 / L"
     ],
     "language": "python",
     "metadata": {},
     "outputs": [],
     "prompt_number": 21
    },
    {
     "cell_type": "code",
     "collapsed": false,
     "input": [
      "plot_density(x, dphi_gsd, 'GSD, $\\\\frac{d\\\\phi}{dx}$', 'dphi_gsd')\n",
      "plot_density(x, d2phi_gsd, 'GSD, $\\\\frac{d^2\\\\phi}{dx^2}$', 'd2phi_gsd')\n",
      "plot_density(x, dphi_scft, 'SCFT, $\\\\frac{d\\\\phi}{dx}$', 'dphi_scft')\n",
      "plot_density(x, d2phi_scft, 'SCFT, $\\\\frac{d^2\\\\phi}{dx^2}$', 'd2phi_scft')"
     ],
     "language": "python",
     "metadata": {},
     "outputs": [],
     "prompt_number": 80
    },
    {
     "cell_type": "code",
     "collapsed": false,
     "input": [
      "c1  = 1.0 / 2.9676\n",
      "c3 = 18.5874 #16.0807\n",
      "#force_gsd = B*C**2*phi_gsd**3 - C*(c1*phi_gsd*d2phi_gsd - c2*dphi_gsd**2) - C*(c3*phi_gsd**2)\n",
      "#force_scft = B*C**2*phi_scft**3 - C*(c1*phi_scft*d2phi_scft - c2*dphi_scft**2) - C*(c3*phi_scft**2)\n",
      "force_gsd = C*(2*c1*phi_gsd*d2phi_gsd - c1*dphi_gsd**2) + C*(c3*phi_gsd**2)\n",
      "force_scft = C*(2*c1*phi_scft*d2phi_scft - c1*dphi_scft**2) + C*(c3*phi_scft**2)"
     ],
     "language": "python",
     "metadata": {},
     "outputs": [],
     "prompt_number": 125
    },
    {
     "cell_type": "code",
     "collapsed": false,
     "input": [
      "mat_fts = loadmat('B25_C0.5_fts_fixscftphi_update_phi_imag_Lx65_run3/fts_out_100000.mat')\n",
      "phi_avg_fix = mat_fts['phi_avg'][0,:].real\n",
      "phi_fix = mat_fts['phi'][0,:].real\n",
      "iw_avg_fix = mat_fts['iw_avg'][0,:].real\n",
      "mu_avg_fix = mat_fts['mu_avg'][0,0].real\n",
      "print mu_avg_fix"
     ],
     "language": "python",
     "metadata": {},
     "outputs": [
      {
       "output_type": "stream",
       "stream": "stdout",
       "text": [
        "16.7915903294\n"
       ]
      }
     ],
     "prompt_number": 122
    },
    {
     "cell_type": "code",
     "collapsed": false,
     "input": [
      "from chebpy import cheb_quadrature_clencurt\n",
      "\n",
      "force_fts = C*iw_avg_fix*phi_fix**2\n",
      "print 0.5*cheb_quadrature_clencurt((force_fts-force_scft)**2)"
     ],
     "language": "python",
     "metadata": {},
     "outputs": [
      {
       "output_type": "stream",
       "stream": "stdout",
       "text": [
        "0.656737442949\n"
       ]
      }
     ],
     "prompt_number": 123
    },
    {
     "cell_type": "code",
     "collapsed": false,
     "input": [
      "from chebpy import cheb_quadrature_clencurt\n",
      "\n",
      "cc = C * (2*phi_scft*d2phi_scft - dphi_scft**2)\n",
      "dn = 0.5*cheb_quadrature_clencurt(cc * cc)\n",
      "#dn = np.sum(cc * cc)\n",
      "print dn\n",
      "print mu_avg_fix\n",
      "dd = C * (iw_avg_fix - mu_avg_fix)*phi_scft**2\n",
      "no = 0.5*cheb_quadrature_clencurt(dd * cc)\n",
      "#no = np.sum(dd * cc)\n",
      "print no\n",
      "K1 = no / dn\n",
      "print K1, 1/K1"
     ],
     "language": "python",
     "metadata": {},
     "outputs": [
      {
       "output_type": "stream",
       "stream": "stdout",
       "text": [
        "788.072936345\n",
        "16.0807076945\n",
        "223.742750377\n",
        "0.283911221992 3.52222780411\n"
       ]
      }
     ],
     "prompt_number": 109
    },
    {
     "cell_type": "code",
     "collapsed": false,
     "input": [
      "G = 0.5*cheb_quadrature_clencurt((dd - K1*cc)**2)\n",
      "print G"
     ],
     "language": "python",
     "metadata": {},
     "outputs": [
      {
       "output_type": "stream",
       "stream": "stdout",
       "text": [
        "0.620210471997\n"
       ]
      }
     ],
     "prompt_number": 110
    },
    {
     "cell_type": "code",
     "collapsed": false,
     "input": [
      "X1 = C * (2*phi_scft*d2phi_scft - dphi_scft**2)\n",
      "X12_avg = 0.5*cheb_quadrature_clencurt(X1*X1)\n",
      "print X12_avg\n",
      "\n",
      "X2 = C * phi_scft**2\n",
      "X22_avg = 0.5*cheb_quadrature_clencurt(X2*X2)\n",
      "print X22_avg\n",
      "\n",
      "X1X2_avg = 0.5*cheb_quadrature_clencurt(X1*X2)\n",
      "print X1X2_avg\n",
      "\n",
      "Y = C*iw_avg_fix*phi_scft**2\n",
      "Y2_avg = 0.5*cheb_quadrature_clencurt(Y*Y)\n",
      "print Y2_avg\n",
      "\n",
      "X1Y_avg = 0.5*cheb_quadrature_clencurt(X1*Y)\n",
      "X2Y_avg = 0.5*cheb_quadrature_clencurt(X2*Y)\n",
      "print X1Y_avg, X2Y_avg\n",
      "\n",
      "K1 = (X2Y_avg*X1X2_avg - X1Y_avg*X22_avg) / (X1X2_avg**2 - X12_avg*X22_avg)\n",
      "K2 = (X1Y_avg - K1*X12_avg) / X1X2_avg\n",
      "print 1/K1, K2"
     ],
     "language": "python",
     "metadata": {},
     "outputs": [
      {
       "output_type": "stream",
       "stream": "stdout",
       "text": [
        "788.072936345\n",
        "0.806183816273\n",
        "-23.8162747641\n",
        "69.9033447796\n",
        "-177.120201553 6.95932690172\n",
        "2.96755651904 18.5874202869\n"
       ]
      }
     ],
     "prompt_number": 124
    },
    {
     "cell_type": "code",
     "collapsed": false,
     "input": [
      "labels = [\n",
      "'GSD, $\\\\frac{\\\\delta H}{\\\\delta\\phi}\\phi^2$', \n",
      "'SCFT, $\\\\frac{\\\\delta H}{\\\\delta\\phi}\\phi^2$'\n",
      "]\n",
      "plot_density(x, [force_gsd, force_scft], labels, 'force_gsd_scft')"
     ],
     "language": "python",
     "metadata": {},
     "outputs": [],
     "prompt_number": 167
    },
    {
     "cell_type": "code",
     "collapsed": false,
     "input": [
      "plot_density(x, [force_gsd], ['GSD, $\\\\frac{\\\\delta H}{\\\\delta\\phi}\\phi^2$'], 'force_gsd')\n",
      "plot_density(x, [force_scft], ['SCFT, $\\\\frac{\\\\delta H}{\\\\delta\\phi}\\phi^2$'], 'force_scft')"
     ],
     "language": "python",
     "metadata": {},
     "outputs": [],
     "prompt_number": 97
    },
    {
     "cell_type": "code",
     "collapsed": false,
     "input": [
      "labels = [\n",
      "'GSD, $\\\\frac{\\\\delta H}{\\\\delta\\phi}\\phi^2$', \n",
      "'SCFT, $\\\\frac{\\\\delta H}{\\\\delta\\phi}\\phi^2$',\n",
      "'CL, $C<iw>_{\\\\phi_{scft}}\\\\phi_{scft}^2$',\n",
      "]\n",
      "plot_density(x, [force_gsd, force_scft, force_fts], labels, 'force_gsd_scft_fit')"
     ],
     "language": "python",
     "metadata": {},
     "outputs": [],
     "prompt_number": 126
    },
    {
     "cell_type": "code",
     "collapsed": false,
     "input": [
      "mat_fts_clB1C1 = loadmat('B25_C0.5_fts_fixclB1C1phi_update_phi_imag_Lx65/fts_out_100000.mat')\n",
      "phi_avg_fixcl = mat_fts_clB1C1['phi_avg'][0,:]\n",
      "phi_fixcl = mat_fts_clB1C1['phi'][0,:]\n",
      "iw_avg_fixcl = mat_fts_clB1C1['iw_avg'][0,:]\n",
      "print mat_fts_clB1C1['mu_avg'][0,:]"
     ],
     "language": "python",
     "metadata": {},
     "outputs": [
      {
       "output_type": "stream",
       "stream": "stdout",
       "text": [
        "[ 13.00062129+0.02508074j]\n"
       ]
      }
     ],
     "prompt_number": 11
    },
    {
     "cell_type": "code",
     "collapsed": false,
     "input": [
      "force_fts_fixcl = C*iw_avg_fixcl.real*phi_fixcl.real**2"
     ],
     "language": "python",
     "metadata": {},
     "outputs": [],
     "prompt_number": 10
    },
    {
     "cell_type": "code",
     "collapsed": false,
     "input": [
      "dphi_fts = cheb_D1_fchebt(phi_fixcl.real) * 2.0 / L\n",
      "d2phi_fts = cheb_D1_fchebt(dphi_fts.real) * 2.0 / L\n",
      "c1  = 2.0 / 4\n",
      "c2 = c1 / 2\n",
      "c3 = 13.0006\n",
      "force_fts_cl = C*(c1*phi_fixcl.real*d2phi_fts - c2*dphi_fts**2) + C*(c3*phi_fixcl.real**2)"
     ],
     "language": "python",
     "metadata": {},
     "outputs": [],
     "prompt_number": 15
    },
    {
     "cell_type": "code",
     "collapsed": false,
     "input": [
      "labels = [\n",
      "'$\\\\frac{\\\\delta H}{\\\\delta\\phi}\\phi^2$',\n",
      "'$C<iw>_{\\\\phi_{CL}}\\\\phi_{CL}^2$',\n",
      "]\n",
      "plot_density(x, [force_fts_cl, force_fts_fixcl], labels, 'force_fts_fixcl')"
     ],
     "language": "python",
     "metadata": {},
     "outputs": [],
     "prompt_number": 16
    },
    {
     "cell_type": "code",
     "collapsed": false,
     "input": [
      "mat_fts_clB1C05 = loadmat('B25_C0.5_fts_fixclB1C0.5phi_update_phi_imag_Lx65/fts_out_100000.mat')\n",
      "phi_avg_fixcl05 = mat_fts_clB1C05['phi_avg'][0,:]\n",
      "phi_fixcl05 = mat_fts_clB1C05['phi'][0,:]\n",
      "iw_avg_fixcl05 = mat_fts_clB1C05['iw_avg'][0,:]\n",
      "print mat_fts_clB1C05['mu_avg'][0,:]"
     ],
     "language": "python",
     "metadata": {},
     "outputs": [
      {
       "output_type": "stream",
       "stream": "stdout",
       "text": [
        "[ 13.09763082+0.02739945j]\n"
       ]
      }
     ],
     "prompt_number": 17
    },
    {
     "cell_type": "code",
     "collapsed": false,
     "input": [
      "force_fts_fixcl05 = C*iw_avg_fixcl05.real*phi_fixcl05.real**2"
     ],
     "language": "python",
     "metadata": {},
     "outputs": [],
     "prompt_number": 18
    },
    {
     "cell_type": "code",
     "collapsed": false,
     "input": [
      "dphi_fts05 = cheb_D1_fchebt(phi_fixcl05.real) * 2.0 / L\n",
      "d2phi_fts05 = cheb_D1_fchebt(dphi_fts05.real) * 2.0 / L\n",
      "c1  = 2.0 / 4\n",
      "c2 = c1 / 2\n",
      "c3 = 13.0976\n",
      "force_fts_cl05 = C*(c1*phi_fixcl05.real*d2phi_fts05 - c2*dphi_fts05**2) + C*(c3*phi_fixcl05.real**2)"
     ],
     "language": "python",
     "metadata": {},
     "outputs": [],
     "prompt_number": 19
    },
    {
     "cell_type": "code",
     "collapsed": false,
     "input": [
      "labels = [\n",
      "'$\\\\frac{\\\\delta H}{\\\\delta\\phi}\\phi^2$',\n",
      "'$C<iw>_{\\\\phi_{CL}}\\\\phi_{CL}^2$',\n",
      "]\n",
      "plot_density(x, [force_fts_cl05, force_fts_fixcl05], labels, 'force_fts_fixcl_B1C05')"
     ],
     "language": "python",
     "metadata": {},
     "outputs": [],
     "prompt_number": 21
    },
    {
     "cell_type": "code",
     "collapsed": false,
     "input": [
      "mat = loadmat('B25_C0.5_fts_Lx65/fts_out_150000.mat')\n",
      "phi_temp = mat['phi_avg'][0,:].real\n",
      "t = mat['t'][0,:]\n",
      "mu_temp = mat['mu'][0,:].real\n",
      "F_temp = mat['F'][0,:].real\n",
      "plot_density(x, [phi_temp], ['$\\\\phi$'], 'B25_C0.5_fts_Lx65/phi_avg')\n",
      "plot_density(x, [phi_scft, phi_temp], ['SCFT','CL'], 'B25_C0.5_fts_Lx65/phi_scft_cl')\n",
      "plot_timeseries(None, [F_temp], ['$H$'], 'B25_C0.5_fts_Lx65/H.png')\n",
      "plot_timeseries(None, [mu_temp], ['$\\\\mu$'], 'B25_C0.5_fts_Lx65/mu.png')\n",
      "plt.close('all')"
     ],
     "language": "python",
     "metadata": {},
     "outputs": [
      {
       "output_type": "stream",
       "stream": "stderr",
       "text": [
        "/Users/lyx/Library/Enthought/Canopy_64bit/User/lib/python2.7/site-packages/numpy/core/numeric.py:460: ComplexWarning: Casting complex values to real discards the imaginary part\n",
        "  return array(a, dtype, copy=False, order=order)\n"
       ]
      }
     ],
     "prompt_number": 6
    },
    {
     "cell_type": "code",
     "collapsed": false,
     "input": [
      "mat = loadmat('B25_C0.5_fts_Lx65_run1/fts_out_100000.mat')\n",
      "phi_temp = mat['phi_avg'][0,:]\n",
      "t = mat['t'][0,:]\n",
      "mu_temp = mat['mu'][0,:]\n",
      "F_temp = mat['F'][0,:]\n",
      "plot_density(x, [phi_temp], ['$\\\\phi$'], 'B25_C0.5_fts_Lx65_run1/phi_avg')\n",
      "plot_timeseries(None, [F_temp], ['$H$'], 'B25_C0.5_fts_Lx65_run1/H.png')\n",
      "plot_timeseries(None, [mu_temp], ['$\\\\mu$'], 'B25_C0.5_fts_Lx65_run1/mu.png')\n",
      "plt.close('all')"
     ],
     "language": "python",
     "metadata": {},
     "outputs": [
      {
       "output_type": "stream",
       "stream": "stderr",
       "text": [
        "/Users/lyx/Library/Enthought/Canopy_64bit/User/lib/python2.7/site-packages/matplotlib/pyplot.py:423: RuntimeWarning: More than 20 figures have been opened. Figures created through the pyplot interface (`matplotlib.pyplot.figure`) are retained until explicitly closed and may consume too much memory. (To control this warning, see the rcParam `figure.max_num_figures`).\n",
        "  max_open_warning, RuntimeWarning)\n"
       ]
      }
     ],
     "prompt_number": 31
    },
    {
     "cell_type": "code",
     "collapsed": false,
     "input": [
      "mat = loadmat('B25_C0.5_fts_Lx65_run2/fts_out_100000.mat')\n",
      "phi_temp = mat['phi_avg'][0,:]\n",
      "t = mat['t'][0,:]\n",
      "mu_temp = mat['mu'][0,:]\n",
      "F_temp = mat['F'][0,:]\n",
      "plot_density(x, [phi_temp], ['$\\\\phi$'], 'B25_C0.5_fts_Lx65_run2/phi_avg')\n",
      "plot_timeseries(None, [F_temp], ['$H$'], 'B25_C0.5_fts_Lx65_run2/H.png')\n",
      "plot_timeseries(None, [mu_temp], ['$\\\\mu$'], 'B25_C0.5_fts_Lx65_run2/mu.png')\n",
      "plt.close('all')"
     ],
     "language": "python",
     "metadata": {},
     "outputs": [],
     "prompt_number": 34
    },
    {
     "cell_type": "code",
     "collapsed": false,
     "input": [
      "import os.path\n",
      "path = 'B25_C0.5_fts_fixscftphi_update_phi_imag_Lx65_run3'\n",
      "mat = loadmat(os.path.join(path, 'fts_out_100000.mat'))\n",
      "phi_temp = mat['phi_avg'][0,:].real\n",
      "iw_temp = mat['iw_avg'][0,:].real\n",
      "t = mat['t'][0,:]\n",
      "mu_temp = mat['mu'][0,:].real\n",
      "F_temp = mat['F'][0,:].real\n",
      "plot_density(x, [phi_temp], ['$<\\\\phi>$'], 'phi_avg')\n",
      "plot_density(x, [iw_temp], ['$<iw>$'], os.path.join(path,'iw_avg'))\n",
      "plot_timeseries(None, [F_temp], ['$H$'], os.path.join(path,'H.png'))\n",
      "plot_timeseries(None, [mu_temp], ['$\\\\mu$'], os.path.join(path,'mu.png'))\n",
      "plt.close('all')"
     ],
     "language": "python",
     "metadata": {},
     "outputs": [],
     "prompt_number": 121
    },
    {
     "cell_type": "code",
     "collapsed": false,
     "input": [
      "phi_temp = mat['phi'][0,:].real\n",
      "print mat['mu_avg'][0,:]\n",
      "force_temp = C*iw_temp*phi_temp**2"
     ],
     "language": "python",
     "metadata": {},
     "outputs": [
      {
       "output_type": "stream",
       "stream": "stdout",
       "text": [
        "[ 15.80257969+0.01243081j]\n"
       ]
      }
     ],
     "prompt_number": 10
    },
    {
     "cell_type": "code",
     "collapsed": false,
     "input": [
      "labels = [\n",
      "'$\\\\frac{\\\\delta H}{\\\\delta\\phi}\\phi^2$',\n",
      "'$C<iw>\\\\phi^2$',\n",
      "]\n",
      "plot_density(x, [force_scft, force_temp], labels, os.path.join(path,'force_match'))"
     ],
     "language": "python",
     "metadata": {},
     "outputs": [],
     "prompt_number": 14
    }
   ],
   "metadata": {}
  }
 ]
}